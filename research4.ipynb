{
 "cells": [
  {
   "cell_type": "code",
   "execution_count": 1,
   "metadata": {},
   "outputs": [],
   "source": [
    "import pandas as pd"
   ]
  },
  {
   "cell_type": "code",
   "execution_count": 2,
   "metadata": {},
   "outputs": [],
   "source": [
    "reddit_data = pd.read_csv('reddit_data.csv')"
   ]
  },
  {
   "cell_type": "code",
   "execution_count": 3,
   "metadata": {},
   "outputs": [
    {
     "data": {
      "text/html": [
       "<div>\n",
       "<style scoped>\n",
       "    .dataframe tbody tr th:only-of-type {\n",
       "        vertical-align: middle;\n",
       "    }\n",
       "\n",
       "    .dataframe tbody tr th {\n",
       "        vertical-align: top;\n",
       "    }\n",
       "\n",
       "    .dataframe thead th {\n",
       "        text-align: right;\n",
       "    }\n",
       "</style>\n",
       "<table border=\"1\" class=\"dataframe\">\n",
       "  <thead>\n",
       "    <tr style=\"text-align: right;\">\n",
       "      <th></th>\n",
       "      <th>Unnamed: 0</th>\n",
       "      <th>title</th>\n",
       "      <th>score</th>\n",
       "      <th>id</th>\n",
       "      <th>url</th>\n",
       "      <th>No_Comments</th>\n",
       "      <th>created</th>\n",
       "      <th>Description</th>\n",
       "    </tr>\n",
       "  </thead>\n",
       "  <tbody>\n",
       "    <tr>\n",
       "      <th>0</th>\n",
       "      <td>0</td>\n",
       "      <td>Bitcoin Newcomers FAQ - Please read!</td>\n",
       "      <td>33</td>\n",
       "      <td>1f7n947</td>\n",
       "      <td>https://www.reddit.com/r/Bitcoin/comments/1f7n...</td>\n",
       "      <td>12</td>\n",
       "      <td>2024-09-03 06:35:33</td>\n",
       "      <td># Welcome to the /r/Bitcoin Newcomers FAQ\\n\\nY...</td>\n",
       "    </tr>\n",
       "    <tr>\n",
       "      <th>1</th>\n",
       "      <td>1</td>\n",
       "      <td>Daily Discussion, October 09, 2024</td>\n",
       "      <td>10</td>\n",
       "      <td>1fzksss</td>\n",
       "      <td>https://www.reddit.com/r/Bitcoin/comments/1fzk...</td>\n",
       "      <td>13</td>\n",
       "      <td>2024-10-09 11:35:23</td>\n",
       "      <td>Please utilize this sticky thread for all gene...</td>\n",
       "    </tr>\n",
       "    <tr>\n",
       "      <th>2</th>\n",
       "      <td>2</td>\n",
       "      <td>Overwhelmed with feelings</td>\n",
       "      <td>75</td>\n",
       "      <td>1fzm5gq</td>\n",
       "      <td>https://i.redd.it/piu5f30irotd1.jpeg</td>\n",
       "      <td>0</td>\n",
       "      <td>2024-10-09 13:19:28</td>\n",
       "      <td>NaN</td>\n",
       "    </tr>\n",
       "    <tr>\n",
       "      <th>3</th>\n",
       "      <td>3</td>\n",
       "      <td>U.S. Government Set to Auction $4.4 Billion in...</td>\n",
       "      <td>800</td>\n",
       "      <td>1fz6jtd</td>\n",
       "      <td>https://www.binance.com/en/square/post/1457581...</td>\n",
       "      <td>232</td>\n",
       "      <td>2024-10-08 23:43:56</td>\n",
       "      <td>NaN</td>\n",
       "    </tr>\n",
       "    <tr>\n",
       "      <th>4</th>\n",
       "      <td>4</td>\n",
       "      <td>Found this in a thrift store years ago and for...</td>\n",
       "      <td>110</td>\n",
       "      <td>1fzjhmt</td>\n",
       "      <td>https://i.redd.it/sfpz7tswsntd1.jpeg</td>\n",
       "      <td>26</td>\n",
       "      <td>2024-10-09 10:06:18</td>\n",
       "      <td>NaN</td>\n",
       "    </tr>\n",
       "  </tbody>\n",
       "</table>\n",
       "</div>"
      ],
      "text/plain": [
       "   Unnamed: 0                                              title  score  \\\n",
       "0           0               Bitcoin Newcomers FAQ - Please read!     33   \n",
       "1           1                 Daily Discussion, October 09, 2024     10   \n",
       "2           2                         Overwhelmed with feelings      75   \n",
       "3           3  U.S. Government Set to Auction $4.4 Billion in...    800   \n",
       "4           4  Found this in a thrift store years ago and for...    110   \n",
       "\n",
       "        id                                                url  No_Comments  \\\n",
       "0  1f7n947  https://www.reddit.com/r/Bitcoin/comments/1f7n...           12   \n",
       "1  1fzksss  https://www.reddit.com/r/Bitcoin/comments/1fzk...           13   \n",
       "2  1fzm5gq               https://i.redd.it/piu5f30irotd1.jpeg            0   \n",
       "3  1fz6jtd  https://www.binance.com/en/square/post/1457581...          232   \n",
       "4  1fzjhmt               https://i.redd.it/sfpz7tswsntd1.jpeg           26   \n",
       "\n",
       "               created                                        Description  \n",
       "0  2024-09-03 06:35:33  # Welcome to the /r/Bitcoin Newcomers FAQ\\n\\nY...  \n",
       "1  2024-10-09 11:35:23  Please utilize this sticky thread for all gene...  \n",
       "2  2024-10-09 13:19:28                                                NaN  \n",
       "3  2024-10-08 23:43:56                                                NaN  \n",
       "4  2024-10-09 10:06:18                                                NaN  "
      ]
     },
     "execution_count": 3,
     "metadata": {},
     "output_type": "execute_result"
    }
   ],
   "source": [
    "reddit_data.head()"
   ]
  },
  {
   "cell_type": "code",
   "execution_count": 4,
   "metadata": {},
   "outputs": [],
   "source": [
    "reddit_data = reddit_data.loc[:, ~reddit_data.columns.str.contains('^Unnamed')]"
   ]
  },
  {
   "cell_type": "code",
   "execution_count": 5,
   "metadata": {},
   "outputs": [
    {
     "data": {
      "text/html": [
       "<div>\n",
       "<style scoped>\n",
       "    .dataframe tbody tr th:only-of-type {\n",
       "        vertical-align: middle;\n",
       "    }\n",
       "\n",
       "    .dataframe tbody tr th {\n",
       "        vertical-align: top;\n",
       "    }\n",
       "\n",
       "    .dataframe thead th {\n",
       "        text-align: right;\n",
       "    }\n",
       "</style>\n",
       "<table border=\"1\" class=\"dataframe\">\n",
       "  <thead>\n",
       "    <tr style=\"text-align: right;\">\n",
       "      <th></th>\n",
       "      <th>title</th>\n",
       "      <th>score</th>\n",
       "      <th>id</th>\n",
       "      <th>url</th>\n",
       "      <th>No_Comments</th>\n",
       "      <th>created</th>\n",
       "      <th>Description</th>\n",
       "    </tr>\n",
       "  </thead>\n",
       "  <tbody>\n",
       "    <tr>\n",
       "      <th>0</th>\n",
       "      <td>Bitcoin Newcomers FAQ - Please read!</td>\n",
       "      <td>33</td>\n",
       "      <td>1f7n947</td>\n",
       "      <td>https://www.reddit.com/r/Bitcoin/comments/1f7n...</td>\n",
       "      <td>12</td>\n",
       "      <td>2024-09-03 06:35:33</td>\n",
       "      <td># Welcome to the /r/Bitcoin Newcomers FAQ\\n\\nY...</td>\n",
       "    </tr>\n",
       "    <tr>\n",
       "      <th>1</th>\n",
       "      <td>Daily Discussion, October 09, 2024</td>\n",
       "      <td>10</td>\n",
       "      <td>1fzksss</td>\n",
       "      <td>https://www.reddit.com/r/Bitcoin/comments/1fzk...</td>\n",
       "      <td>13</td>\n",
       "      <td>2024-10-09 11:35:23</td>\n",
       "      <td>Please utilize this sticky thread for all gene...</td>\n",
       "    </tr>\n",
       "    <tr>\n",
       "      <th>2</th>\n",
       "      <td>Overwhelmed with feelings</td>\n",
       "      <td>75</td>\n",
       "      <td>1fzm5gq</td>\n",
       "      <td>https://i.redd.it/piu5f30irotd1.jpeg</td>\n",
       "      <td>0</td>\n",
       "      <td>2024-10-09 13:19:28</td>\n",
       "      <td>NaN</td>\n",
       "    </tr>\n",
       "    <tr>\n",
       "      <th>3</th>\n",
       "      <td>U.S. Government Set to Auction $4.4 Billion in...</td>\n",
       "      <td>800</td>\n",
       "      <td>1fz6jtd</td>\n",
       "      <td>https://www.binance.com/en/square/post/1457581...</td>\n",
       "      <td>232</td>\n",
       "      <td>2024-10-08 23:43:56</td>\n",
       "      <td>NaN</td>\n",
       "    </tr>\n",
       "    <tr>\n",
       "      <th>4</th>\n",
       "      <td>Found this in a thrift store years ago and for...</td>\n",
       "      <td>110</td>\n",
       "      <td>1fzjhmt</td>\n",
       "      <td>https://i.redd.it/sfpz7tswsntd1.jpeg</td>\n",
       "      <td>26</td>\n",
       "      <td>2024-10-09 10:06:18</td>\n",
       "      <td>NaN</td>\n",
       "    </tr>\n",
       "  </tbody>\n",
       "</table>\n",
       "</div>"
      ],
      "text/plain": [
       "                                               title  score       id  \\\n",
       "0               Bitcoin Newcomers FAQ - Please read!     33  1f7n947   \n",
       "1                 Daily Discussion, October 09, 2024     10  1fzksss   \n",
       "2                         Overwhelmed with feelings      75  1fzm5gq   \n",
       "3  U.S. Government Set to Auction $4.4 Billion in...    800  1fz6jtd   \n",
       "4  Found this in a thrift store years ago and for...    110  1fzjhmt   \n",
       "\n",
       "                                                 url  No_Comments  \\\n",
       "0  https://www.reddit.com/r/Bitcoin/comments/1f7n...           12   \n",
       "1  https://www.reddit.com/r/Bitcoin/comments/1fzk...           13   \n",
       "2               https://i.redd.it/piu5f30irotd1.jpeg            0   \n",
       "3  https://www.binance.com/en/square/post/1457581...          232   \n",
       "4               https://i.redd.it/sfpz7tswsntd1.jpeg           26   \n",
       "\n",
       "               created                                        Description  \n",
       "0  2024-09-03 06:35:33  # Welcome to the /r/Bitcoin Newcomers FAQ\\n\\nY...  \n",
       "1  2024-10-09 11:35:23  Please utilize this sticky thread for all gene...  \n",
       "2  2024-10-09 13:19:28                                                NaN  \n",
       "3  2024-10-08 23:43:56                                                NaN  \n",
       "4  2024-10-09 10:06:18                                                NaN  "
      ]
     },
     "execution_count": 5,
     "metadata": {},
     "output_type": "execute_result"
    }
   ],
   "source": [
    "reddit_data.head()"
   ]
  },
  {
   "cell_type": "code",
   "execution_count": 6,
   "metadata": {},
   "outputs": [
    {
     "name": "stdout",
     "output_type": "stream",
     "text": [
      "0\n",
      "object\n"
     ]
    }
   ],
   "source": [
    "print(reddit_data['title'].isnull().sum())\n",
    "print(reddit_data['title'].dtype)"
   ]
  },
  {
   "cell_type": "code",
   "execution_count": 7,
   "metadata": {},
   "outputs": [
    {
     "data": {
      "text/plain": [
       "np.int64(2287)"
      ]
     },
     "execution_count": 7,
     "metadata": {},
     "output_type": "execute_result"
    }
   ],
   "source": [
    "reddit_data['Description'].isnull().sum()"
   ]
  },
  {
   "cell_type": "code",
   "execution_count": 8,
   "metadata": {},
   "outputs": [],
   "source": [
    "reddit_data['Description']=reddit_data['Description'].fillna(reddit_data['title'])"
   ]
  },
  {
   "cell_type": "code",
   "execution_count": 9,
   "metadata": {},
   "outputs": [
    {
     "data": {
      "text/html": [
       "<div>\n",
       "<style scoped>\n",
       "    .dataframe tbody tr th:only-of-type {\n",
       "        vertical-align: middle;\n",
       "    }\n",
       "\n",
       "    .dataframe tbody tr th {\n",
       "        vertical-align: top;\n",
       "    }\n",
       "\n",
       "    .dataframe thead th {\n",
       "        text-align: right;\n",
       "    }\n",
       "</style>\n",
       "<table border=\"1\" class=\"dataframe\">\n",
       "  <thead>\n",
       "    <tr style=\"text-align: right;\">\n",
       "      <th></th>\n",
       "      <th>title</th>\n",
       "      <th>score</th>\n",
       "      <th>id</th>\n",
       "      <th>url</th>\n",
       "      <th>No_Comments</th>\n",
       "      <th>created</th>\n",
       "      <th>Description</th>\n",
       "    </tr>\n",
       "  </thead>\n",
       "  <tbody>\n",
       "    <tr>\n",
       "      <th>0</th>\n",
       "      <td>Bitcoin Newcomers FAQ - Please read!</td>\n",
       "      <td>33</td>\n",
       "      <td>1f7n947</td>\n",
       "      <td>https://www.reddit.com/r/Bitcoin/comments/1f7n...</td>\n",
       "      <td>12</td>\n",
       "      <td>2024-09-03 06:35:33</td>\n",
       "      <td># Welcome to the /r/Bitcoin Newcomers FAQ\\n\\nY...</td>\n",
       "    </tr>\n",
       "    <tr>\n",
       "      <th>1</th>\n",
       "      <td>Daily Discussion, October 09, 2024</td>\n",
       "      <td>10</td>\n",
       "      <td>1fzksss</td>\n",
       "      <td>https://www.reddit.com/r/Bitcoin/comments/1fzk...</td>\n",
       "      <td>13</td>\n",
       "      <td>2024-10-09 11:35:23</td>\n",
       "      <td>Please utilize this sticky thread for all gene...</td>\n",
       "    </tr>\n",
       "    <tr>\n",
       "      <th>2</th>\n",
       "      <td>Overwhelmed with feelings</td>\n",
       "      <td>75</td>\n",
       "      <td>1fzm5gq</td>\n",
       "      <td>https://i.redd.it/piu5f30irotd1.jpeg</td>\n",
       "      <td>0</td>\n",
       "      <td>2024-10-09 13:19:28</td>\n",
       "      <td>Overwhelmed with feelings</td>\n",
       "    </tr>\n",
       "    <tr>\n",
       "      <th>3</th>\n",
       "      <td>U.S. Government Set to Auction $4.4 Billion in...</td>\n",
       "      <td>800</td>\n",
       "      <td>1fz6jtd</td>\n",
       "      <td>https://www.binance.com/en/square/post/1457581...</td>\n",
       "      <td>232</td>\n",
       "      <td>2024-10-08 23:43:56</td>\n",
       "      <td>U.S. Government Set to Auction $4.4 Billion in...</td>\n",
       "    </tr>\n",
       "    <tr>\n",
       "      <th>4</th>\n",
       "      <td>Found this in a thrift store years ago and for...</td>\n",
       "      <td>110</td>\n",
       "      <td>1fzjhmt</td>\n",
       "      <td>https://i.redd.it/sfpz7tswsntd1.jpeg</td>\n",
       "      <td>26</td>\n",
       "      <td>2024-10-09 10:06:18</td>\n",
       "      <td>Found this in a thrift store years ago and for...</td>\n",
       "    </tr>\n",
       "  </tbody>\n",
       "</table>\n",
       "</div>"
      ],
      "text/plain": [
       "                                               title  score       id  \\\n",
       "0               Bitcoin Newcomers FAQ - Please read!     33  1f7n947   \n",
       "1                 Daily Discussion, October 09, 2024     10  1fzksss   \n",
       "2                         Overwhelmed with feelings      75  1fzm5gq   \n",
       "3  U.S. Government Set to Auction $4.4 Billion in...    800  1fz6jtd   \n",
       "4  Found this in a thrift store years ago and for...    110  1fzjhmt   \n",
       "\n",
       "                                                 url  No_Comments  \\\n",
       "0  https://www.reddit.com/r/Bitcoin/comments/1f7n...           12   \n",
       "1  https://www.reddit.com/r/Bitcoin/comments/1fzk...           13   \n",
       "2               https://i.redd.it/piu5f30irotd1.jpeg            0   \n",
       "3  https://www.binance.com/en/square/post/1457581...          232   \n",
       "4               https://i.redd.it/sfpz7tswsntd1.jpeg           26   \n",
       "\n",
       "               created                                        Description  \n",
       "0  2024-09-03 06:35:33  # Welcome to the /r/Bitcoin Newcomers FAQ\\n\\nY...  \n",
       "1  2024-10-09 11:35:23  Please utilize this sticky thread for all gene...  \n",
       "2  2024-10-09 13:19:28                         Overwhelmed with feelings   \n",
       "3  2024-10-08 23:43:56  U.S. Government Set to Auction $4.4 Billion in...  \n",
       "4  2024-10-09 10:06:18  Found this in a thrift store years ago and for...  "
      ]
     },
     "execution_count": 9,
     "metadata": {},
     "output_type": "execute_result"
    }
   ],
   "source": [
    "reddit_data.head()"
   ]
  },
  {
   "cell_type": "code",
   "execution_count": 10,
   "metadata": {},
   "outputs": [
    {
     "data": {
      "text/plain": [
       "title          0\n",
       "score          0\n",
       "id             0\n",
       "url            0\n",
       "No_Comments    0\n",
       "created        0\n",
       "Description    0\n",
       "dtype: int64"
      ]
     },
     "execution_count": 10,
     "metadata": {},
     "output_type": "execute_result"
    }
   ],
   "source": [
    "reddit_data.isnull().sum()"
   ]
  },
  {
   "cell_type": "code",
   "execution_count": 11,
   "metadata": {},
   "outputs": [
    {
     "data": {
      "text/plain": [
       "'Found this in a thrift store years ago and forgot about it! '"
      ]
     },
     "execution_count": 11,
     "metadata": {},
     "output_type": "execute_result"
    }
   ],
   "source": [
    "reddit_data['title'][4]"
   ]
  },
  {
   "cell_type": "code",
   "execution_count": 12,
   "metadata": {},
   "outputs": [],
   "source": [
    "import re\n",
    "\n",
    "def preprocess_text(text):\n",
    "    try:\n",
    "        text = re.sub(r'[^a-zA-Z\\s]', '', str(text))\n",
    "        text = text.lower()\n",
    "        return text\n",
    "    except Exception as e:\n",
    "        print(f\"Error processing text: {text[:50]}...\")\n",
    "        print(f\"Error message: {str(e)}\")\n",
    "        return text"
   ]
  },
  {
   "cell_type": "code",
   "execution_count": 13,
   "metadata": {},
   "outputs": [],
   "source": [
    "reddit_data['title'] = reddit_data['title'].apply(preprocess_text)"
   ]
  },
  {
   "cell_type": "code",
   "execution_count": 14,
   "metadata": {},
   "outputs": [
    {
     "data": {
      "text/plain": [
       "0                      bitcoin newcomers faq  please read\n",
       "1                              daily discussion october  \n",
       "2                              overwhelmed with feelings \n",
       "3       us government set to auction  billion in bitco...\n",
       "4       found this in a thrift store years ago and for...\n",
       "                              ...                        \n",
       "3703              bitcoin price watch live trade  newsbtc\n",
       "3704                       bitcoin price projections for \n",
       "3705    moviefree a beautiful mind  subtitles movie ip...\n",
       "3706    free book youth by j m coetzee epub kindle acq...\n",
       "3707                               rcryptoanalysis lounge\n",
       "Name: title, Length: 3708, dtype: object"
      ]
     },
     "execution_count": 14,
     "metadata": {},
     "output_type": "execute_result"
    }
   ],
   "source": [
    "reddit_data['title']"
   ]
  },
  {
   "cell_type": "code",
   "execution_count": 15,
   "metadata": {},
   "outputs": [],
   "source": [
    "reddit_data['Description'] = reddit_data['Description'].apply(preprocess_text)"
   ]
  },
  {
   "cell_type": "code",
   "execution_count": 16,
   "metadata": {},
   "outputs": [
    {
     "data": {
      "text/plain": [
       "0        welcome to the rbitcoin newcomers faq\\n\\nyouv...\n",
       "1       please utilize this sticky thread for all gene...\n",
       "2                              overwhelmed with feelings \n",
       "3       us government set to auction  billion in bitco...\n",
       "4       found this in a thrift store years ago and for...\n",
       "                              ...                        \n",
       "3703              bitcoin price watch live trade  newsbtc\n",
       "3704                       bitcoin price projections for \n",
       "3705                                                     \n",
       "3706                                        ashley harris\n",
       "3707    a place for members of rcryptoanalysis to chat...\n",
       "Name: Description, Length: 3708, dtype: object"
      ]
     },
     "execution_count": 16,
     "metadata": {},
     "output_type": "execute_result"
    }
   ],
   "source": [
    "reddit_data['Description']"
   ]
  },
  {
   "cell_type": "code",
   "execution_count": 17,
   "metadata": {},
   "outputs": [
    {
     "data": {
      "text/html": [
       "<div>\n",
       "<style scoped>\n",
       "    .dataframe tbody tr th:only-of-type {\n",
       "        vertical-align: middle;\n",
       "    }\n",
       "\n",
       "    .dataframe tbody tr th {\n",
       "        vertical-align: top;\n",
       "    }\n",
       "\n",
       "    .dataframe thead th {\n",
       "        text-align: right;\n",
       "    }\n",
       "</style>\n",
       "<table border=\"1\" class=\"dataframe\">\n",
       "  <thead>\n",
       "    <tr style=\"text-align: right;\">\n",
       "      <th></th>\n",
       "      <th>title</th>\n",
       "      <th>score</th>\n",
       "      <th>id</th>\n",
       "      <th>url</th>\n",
       "      <th>No_Comments</th>\n",
       "      <th>created</th>\n",
       "      <th>Description</th>\n",
       "    </tr>\n",
       "  </thead>\n",
       "  <tbody>\n",
       "    <tr>\n",
       "      <th>0</th>\n",
       "      <td>bitcoin newcomers faq  please read</td>\n",
       "      <td>33</td>\n",
       "      <td>1f7n947</td>\n",
       "      <td>https://www.reddit.com/r/Bitcoin/comments/1f7n...</td>\n",
       "      <td>12</td>\n",
       "      <td>2024-09-03 06:35:33</td>\n",
       "      <td>welcome to the rbitcoin newcomers faq\\n\\nyouv...</td>\n",
       "    </tr>\n",
       "    <tr>\n",
       "      <th>1</th>\n",
       "      <td>daily discussion october</td>\n",
       "      <td>10</td>\n",
       "      <td>1fzksss</td>\n",
       "      <td>https://www.reddit.com/r/Bitcoin/comments/1fzk...</td>\n",
       "      <td>13</td>\n",
       "      <td>2024-10-09 11:35:23</td>\n",
       "      <td>please utilize this sticky thread for all gene...</td>\n",
       "    </tr>\n",
       "    <tr>\n",
       "      <th>2</th>\n",
       "      <td>overwhelmed with feelings</td>\n",
       "      <td>75</td>\n",
       "      <td>1fzm5gq</td>\n",
       "      <td>https://i.redd.it/piu5f30irotd1.jpeg</td>\n",
       "      <td>0</td>\n",
       "      <td>2024-10-09 13:19:28</td>\n",
       "      <td>overwhelmed with feelings</td>\n",
       "    </tr>\n",
       "    <tr>\n",
       "      <th>3</th>\n",
       "      <td>us government set to auction  billion in bitco...</td>\n",
       "      <td>800</td>\n",
       "      <td>1fz6jtd</td>\n",
       "      <td>https://www.binance.com/en/square/post/1457581...</td>\n",
       "      <td>232</td>\n",
       "      <td>2024-10-08 23:43:56</td>\n",
       "      <td>us government set to auction  billion in bitco...</td>\n",
       "    </tr>\n",
       "    <tr>\n",
       "      <th>4</th>\n",
       "      <td>found this in a thrift store years ago and for...</td>\n",
       "      <td>110</td>\n",
       "      <td>1fzjhmt</td>\n",
       "      <td>https://i.redd.it/sfpz7tswsntd1.jpeg</td>\n",
       "      <td>26</td>\n",
       "      <td>2024-10-09 10:06:18</td>\n",
       "      <td>found this in a thrift store years ago and for...</td>\n",
       "    </tr>\n",
       "  </tbody>\n",
       "</table>\n",
       "</div>"
      ],
      "text/plain": [
       "                                               title  score       id  \\\n",
       "0                 bitcoin newcomers faq  please read     33  1f7n947   \n",
       "1                         daily discussion october       10  1fzksss   \n",
       "2                         overwhelmed with feelings      75  1fzm5gq   \n",
       "3  us government set to auction  billion in bitco...    800  1fz6jtd   \n",
       "4  found this in a thrift store years ago and for...    110  1fzjhmt   \n",
       "\n",
       "                                                 url  No_Comments  \\\n",
       "0  https://www.reddit.com/r/Bitcoin/comments/1f7n...           12   \n",
       "1  https://www.reddit.com/r/Bitcoin/comments/1fzk...           13   \n",
       "2               https://i.redd.it/piu5f30irotd1.jpeg            0   \n",
       "3  https://www.binance.com/en/square/post/1457581...          232   \n",
       "4               https://i.redd.it/sfpz7tswsntd1.jpeg           26   \n",
       "\n",
       "               created                                        Description  \n",
       "0  2024-09-03 06:35:33   welcome to the rbitcoin newcomers faq\\n\\nyouv...  \n",
       "1  2024-10-09 11:35:23  please utilize this sticky thread for all gene...  \n",
       "2  2024-10-09 13:19:28                         overwhelmed with feelings   \n",
       "3  2024-10-08 23:43:56  us government set to auction  billion in bitco...  \n",
       "4  2024-10-09 10:06:18  found this in a thrift store years ago and for...  "
      ]
     },
     "execution_count": 17,
     "metadata": {},
     "output_type": "execute_result"
    }
   ],
   "source": [
    "reddit_data.head()"
   ]
  },
  {
   "cell_type": "code",
   "execution_count": 18,
   "metadata": {},
   "outputs": [
    {
     "name": "stderr",
     "output_type": "stream",
     "text": [
      "c:\\Users\\Dell\\Desktop\\crypocurrency valatality prediction\\venv\\Lib\\site-packages\\tqdm\\auto.py:21: TqdmWarning: IProgress not found. Please update jupyter and ipywidgets. See https://ipywidgets.readthedocs.io/en/stable/user_install.html\n",
      "  from .autonotebook import tqdm as notebook_tqdm\n"
     ]
    }
   ],
   "source": [
    "from transformers import DistilBertTokenizer, DistilBertForSequenceClassification\n",
    "import torch"
   ]
  },
  {
   "cell_type": "code",
   "execution_count": 19,
   "metadata": {},
   "outputs": [],
   "source": [
    "tokenizer = DistilBertTokenizer.from_pretrained('distilbert-base-uncased-finetuned-sst-2-english')"
   ]
  },
  {
   "cell_type": "code",
   "execution_count": 20,
   "metadata": {},
   "outputs": [],
   "source": [
    "model = DistilBertForSequenceClassification.from_pretrained('distilbert-base-uncased-finetuned-sst-2-english')"
   ]
  },
  {
   "cell_type": "code",
   "execution_count": 21,
   "metadata": {},
   "outputs": [],
   "source": [
    "inputs = tokenizer(reddit_data['title'].tolist(), padding=True, truncation=True, return_tensors=\"pt\")"
   ]
  },
  {
   "cell_type": "code",
   "execution_count": 22,
   "metadata": {},
   "outputs": [],
   "source": [
    "with torch.no_grad():\n",
    "    outputs = model(**inputs)\n"
   ]
  },
  {
   "cell_type": "code",
   "execution_count": 23,
   "metadata": {},
   "outputs": [
    {
     "data": {
      "text/plain": [
       "SequenceClassifierOutput(loss=None, logits=tensor([[-2.4078,  2.4065],\n",
       "        [-2.0682,  2.1570],\n",
       "        [-1.6922,  1.8435],\n",
       "        ...,\n",
       "        [-0.5458,  0.6291],\n",
       "        [ 2.5504, -2.1872],\n",
       "        [ 1.2208, -1.0480]]), hidden_states=None, attentions=None)"
      ]
     },
     "execution_count": 23,
     "metadata": {},
     "output_type": "execute_result"
    }
   ],
   "source": [
    "outputs"
   ]
  },
  {
   "cell_type": "code",
   "execution_count": 24,
   "metadata": {},
   "outputs": [],
   "source": [
    "logits = outputs.logits"
   ]
  },
  {
   "cell_type": "code",
   "execution_count": 25,
   "metadata": {},
   "outputs": [
    {
     "data": {
      "text/plain": [
       "tensor([[-2.4078,  2.4065],\n",
       "        [-2.0682,  2.1570],\n",
       "        [-1.6922,  1.8435],\n",
       "        ...,\n",
       "        [-0.5458,  0.6291],\n",
       "        [ 2.5504, -2.1872],\n",
       "        [ 1.2208, -1.0480]])"
      ]
     },
     "execution_count": 25,
     "metadata": {},
     "output_type": "execute_result"
    }
   ],
   "source": [
    "logits"
   ]
  },
  {
   "cell_type": "code",
   "execution_count": 26,
   "metadata": {},
   "outputs": [],
   "source": [
    "probabilities = torch.nn.functional.softmax(logits, dim=1)"
   ]
  },
  {
   "cell_type": "code",
   "execution_count": 27,
   "metadata": {},
   "outputs": [
    {
     "data": {
      "text/plain": [
       "tensor([[0.0080, 0.9920],\n",
       "        [0.0144, 0.9856],\n",
       "        [0.0283, 0.9717],\n",
       "        ...,\n",
       "        [0.2360, 0.7640],\n",
       "        [0.9913, 0.0087],\n",
       "        [0.9063, 0.0937]])"
      ]
     },
     "execution_count": 27,
     "metadata": {},
     "output_type": "execute_result"
    }
   ],
   "source": [
    "probabilities"
   ]
  },
  {
   "cell_type": "code",
   "execution_count": 28,
   "metadata": {},
   "outputs": [],
   "source": [
    "reddit_data['title_sentiment'] = 2 * probabilities[:, 1].numpy() - 1"
   ]
  },
  {
   "cell_type": "code",
   "execution_count": 29,
   "metadata": {},
   "outputs": [
    {
     "data": {
      "text/html": [
       "<div>\n",
       "<style scoped>\n",
       "    .dataframe tbody tr th:only-of-type {\n",
       "        vertical-align: middle;\n",
       "    }\n",
       "\n",
       "    .dataframe tbody tr th {\n",
       "        vertical-align: top;\n",
       "    }\n",
       "\n",
       "    .dataframe thead th {\n",
       "        text-align: right;\n",
       "    }\n",
       "</style>\n",
       "<table border=\"1\" class=\"dataframe\">\n",
       "  <thead>\n",
       "    <tr style=\"text-align: right;\">\n",
       "      <th></th>\n",
       "      <th>title</th>\n",
       "      <th>score</th>\n",
       "      <th>id</th>\n",
       "      <th>url</th>\n",
       "      <th>No_Comments</th>\n",
       "      <th>created</th>\n",
       "      <th>Description</th>\n",
       "      <th>title_sentiment</th>\n",
       "    </tr>\n",
       "  </thead>\n",
       "  <tbody>\n",
       "    <tr>\n",
       "      <th>0</th>\n",
       "      <td>bitcoin newcomers faq  please read</td>\n",
       "      <td>33</td>\n",
       "      <td>1f7n947</td>\n",
       "      <td>https://www.reddit.com/r/Bitcoin/comments/1f7n...</td>\n",
       "      <td>12</td>\n",
       "      <td>2024-09-03 06:35:33</td>\n",
       "      <td>welcome to the rbitcoin newcomers faq\\n\\nyouv...</td>\n",
       "      <td>0.983905</td>\n",
       "    </tr>\n",
       "    <tr>\n",
       "      <th>1</th>\n",
       "      <td>daily discussion october</td>\n",
       "      <td>10</td>\n",
       "      <td>1fzksss</td>\n",
       "      <td>https://www.reddit.com/r/Bitcoin/comments/1fzk...</td>\n",
       "      <td>13</td>\n",
       "      <td>2024-10-09 11:35:23</td>\n",
       "      <td>please utilize this sticky thread for all gene...</td>\n",
       "      <td>0.971176</td>\n",
       "    </tr>\n",
       "    <tr>\n",
       "      <th>2</th>\n",
       "      <td>overwhelmed with feelings</td>\n",
       "      <td>75</td>\n",
       "      <td>1fzm5gq</td>\n",
       "      <td>https://i.redd.it/piu5f30irotd1.jpeg</td>\n",
       "      <td>0</td>\n",
       "      <td>2024-10-09 13:19:28</td>\n",
       "      <td>overwhelmed with feelings</td>\n",
       "      <td>0.943375</td>\n",
       "    </tr>\n",
       "    <tr>\n",
       "      <th>3</th>\n",
       "      <td>us government set to auction  billion in bitco...</td>\n",
       "      <td>800</td>\n",
       "      <td>1fz6jtd</td>\n",
       "      <td>https://www.binance.com/en/square/post/1457581...</td>\n",
       "      <td>232</td>\n",
       "      <td>2024-10-08 23:43:56</td>\n",
       "      <td>us government set to auction  billion in bitco...</td>\n",
       "      <td>-0.970498</td>\n",
       "    </tr>\n",
       "    <tr>\n",
       "      <th>4</th>\n",
       "      <td>found this in a thrift store years ago and for...</td>\n",
       "      <td>110</td>\n",
       "      <td>1fzjhmt</td>\n",
       "      <td>https://i.redd.it/sfpz7tswsntd1.jpeg</td>\n",
       "      <td>26</td>\n",
       "      <td>2024-10-09 10:06:18</td>\n",
       "      <td>found this in a thrift store years ago and for...</td>\n",
       "      <td>-0.999280</td>\n",
       "    </tr>\n",
       "  </tbody>\n",
       "</table>\n",
       "</div>"
      ],
      "text/plain": [
       "                                               title  score       id  \\\n",
       "0                 bitcoin newcomers faq  please read     33  1f7n947   \n",
       "1                         daily discussion october       10  1fzksss   \n",
       "2                         overwhelmed with feelings      75  1fzm5gq   \n",
       "3  us government set to auction  billion in bitco...    800  1fz6jtd   \n",
       "4  found this in a thrift store years ago and for...    110  1fzjhmt   \n",
       "\n",
       "                                                 url  No_Comments  \\\n",
       "0  https://www.reddit.com/r/Bitcoin/comments/1f7n...           12   \n",
       "1  https://www.reddit.com/r/Bitcoin/comments/1fzk...           13   \n",
       "2               https://i.redd.it/piu5f30irotd1.jpeg            0   \n",
       "3  https://www.binance.com/en/square/post/1457581...          232   \n",
       "4               https://i.redd.it/sfpz7tswsntd1.jpeg           26   \n",
       "\n",
       "               created                                        Description  \\\n",
       "0  2024-09-03 06:35:33   welcome to the rbitcoin newcomers faq\\n\\nyouv...   \n",
       "1  2024-10-09 11:35:23  please utilize this sticky thread for all gene...   \n",
       "2  2024-10-09 13:19:28                         overwhelmed with feelings    \n",
       "3  2024-10-08 23:43:56  us government set to auction  billion in bitco...   \n",
       "4  2024-10-09 10:06:18  found this in a thrift store years ago and for...   \n",
       "\n",
       "   title_sentiment  \n",
       "0         0.983905  \n",
       "1         0.971176  \n",
       "2         0.943375  \n",
       "3        -0.970498  \n",
       "4        -0.999280  "
      ]
     },
     "execution_count": 29,
     "metadata": {},
     "output_type": "execute_result"
    }
   ],
   "source": [
    "reddit_data.head()"
   ]
  },
  {
   "cell_type": "code",
   "execution_count": 31,
   "metadata": {},
   "outputs": [
    {
     "data": {
      "text/plain": [
       "(1116, 8)"
      ]
     },
     "execution_count": 31,
     "metadata": {},
     "output_type": "execute_result"
    }
   ],
   "source": [
    "reddit_data[reddit_data['title_sentiment']>0].shape"
   ]
  },
  {
   "cell_type": "code",
   "execution_count": 32,
   "metadata": {},
   "outputs": [
    {
     "data": {
      "text/plain": [
       "(2592, 8)"
      ]
     },
     "execution_count": 32,
     "metadata": {},
     "output_type": "execute_result"
    }
   ],
   "source": [
    "reddit_data[reddit_data['title_sentiment']<0].shape"
   ]
  },
  {
   "cell_type": "code",
   "execution_count": 33,
   "metadata": {},
   "outputs": [],
   "source": [
    "inputs1 = tokenizer(reddit_data['Description'].tolist(), padding=True, truncation=True,max_length=100, return_tensors=\"pt\")"
   ]
  },
  {
   "cell_type": "code",
   "execution_count": 34,
   "metadata": {},
   "outputs": [],
   "source": [
    "with torch.no_grad():\n",
    "    outputs1 = model(**inputs1)"
   ]
  },
  {
   "cell_type": "code",
   "execution_count": 35,
   "metadata": {},
   "outputs": [
    {
     "data": {
      "text/plain": [
       "SequenceClassifierOutput(loss=None, logits=tensor([[ 0.0880,  0.0447],\n",
       "        [ 3.5033, -2.9271],\n",
       "        [-1.6922,  1.8435],\n",
       "        ...,\n",
       "        [-0.4999,  0.5887],\n",
       "        [-1.0106,  1.0628],\n",
       "        [-2.5980,  2.6117]]), hidden_states=None, attentions=None)"
      ]
     },
     "execution_count": 35,
     "metadata": {},
     "output_type": "execute_result"
    }
   ],
   "source": [
    "outputs1"
   ]
  },
  {
   "cell_type": "code",
   "execution_count": 36,
   "metadata": {},
   "outputs": [],
   "source": [
    "logits1 = outputs1.logits"
   ]
  },
  {
   "cell_type": "code",
   "execution_count": 37,
   "metadata": {},
   "outputs": [
    {
     "data": {
      "text/plain": [
       "tensor([[ 0.0880,  0.0447],\n",
       "        [ 3.5033, -2.9271],\n",
       "        [-1.6922,  1.8435],\n",
       "        ...,\n",
       "        [-0.4999,  0.5887],\n",
       "        [-1.0106,  1.0628],\n",
       "        [-2.5980,  2.6117]])"
      ]
     },
     "execution_count": 37,
     "metadata": {},
     "output_type": "execute_result"
    }
   ],
   "source": [
    "logits1"
   ]
  },
  {
   "cell_type": "code",
   "execution_count": 38,
   "metadata": {},
   "outputs": [],
   "source": [
    "probabilities1 = torch.nn.functional.softmax(logits1, dim=1)"
   ]
  },
  {
   "cell_type": "code",
   "execution_count": 39,
   "metadata": {},
   "outputs": [
    {
     "data": {
      "text/plain": [
       "tensor([[0.5108, 0.4892],\n",
       "        [0.9984, 0.0016],\n",
       "        [0.0283, 0.9717],\n",
       "        ...,\n",
       "        [0.2519, 0.7481],\n",
       "        [0.1117, 0.8883],\n",
       "        [0.0054, 0.9946]])"
      ]
     },
     "execution_count": 39,
     "metadata": {},
     "output_type": "execute_result"
    }
   ],
   "source": [
    "probabilities1"
   ]
  },
  {
   "cell_type": "code",
   "execution_count": 40,
   "metadata": {},
   "outputs": [],
   "source": [
    "reddit_data['description_sentiment'] = 2 * probabilities1[:, 1].numpy() - 1"
   ]
  },
  {
   "cell_type": "code",
   "execution_count": 41,
   "metadata": {},
   "outputs": [
    {
     "data": {
      "text/plain": [
       "(973, 9)"
      ]
     },
     "execution_count": 41,
     "metadata": {},
     "output_type": "execute_result"
    }
   ],
   "source": [
    "reddit_data[reddit_data['description_sentiment']>0].shape"
   ]
  },
  {
   "cell_type": "code",
   "execution_count": 42,
   "metadata": {},
   "outputs": [
    {
     "data": {
      "text/plain": [
       "(2735, 9)"
      ]
     },
     "execution_count": 42,
     "metadata": {},
     "output_type": "execute_result"
    }
   ],
   "source": [
    "reddit_data[reddit_data['description_sentiment']<0].shape"
   ]
  },
  {
   "cell_type": "code",
   "execution_count": 43,
   "metadata": {},
   "outputs": [],
   "source": [
    "reddit_data['created']=pd.to_datetime(reddit_data['created'])"
   ]
  },
  {
   "cell_type": "code",
   "execution_count": 44,
   "metadata": {},
   "outputs": [],
   "source": [
    "reddit_daily = reddit_data.groupby(reddit_data['created'].dt.date).agg({\n",
    "    'score': 'mean',\n",
    "    'No_Comments': 'sum',\n",
    "    'title_sentiment': 'mean',\n",
    "    'description_sentiment': 'mean'\n",
    "}).reset_index()"
   ]
  },
  {
   "cell_type": "code",
   "execution_count": 45,
   "metadata": {},
   "outputs": [
    {
     "data": {
      "text/html": [
       "<div>\n",
       "<style scoped>\n",
       "    .dataframe tbody tr th:only-of-type {\n",
       "        vertical-align: middle;\n",
       "    }\n",
       "\n",
       "    .dataframe tbody tr th {\n",
       "        vertical-align: top;\n",
       "    }\n",
       "\n",
       "    .dataframe thead th {\n",
       "        text-align: right;\n",
       "    }\n",
       "</style>\n",
       "<table border=\"1\" class=\"dataframe\">\n",
       "  <thead>\n",
       "    <tr style=\"text-align: right;\">\n",
       "      <th></th>\n",
       "      <th>created</th>\n",
       "      <th>score</th>\n",
       "      <th>No_Comments</th>\n",
       "      <th>title_sentiment</th>\n",
       "      <th>description_sentiment</th>\n",
       "    </tr>\n",
       "  </thead>\n",
       "  <tbody>\n",
       "    <tr>\n",
       "      <th>0</th>\n",
       "      <td>2016-02-10</td>\n",
       "      <td>1.000000</td>\n",
       "      <td>1</td>\n",
       "      <td>-0.982634</td>\n",
       "      <td>0.776574</td>\n",
       "    </tr>\n",
       "    <tr>\n",
       "      <th>1</th>\n",
       "      <td>2016-07-01</td>\n",
       "      <td>1.000000</td>\n",
       "      <td>1</td>\n",
       "      <td>0.528056</td>\n",
       "      <td>0.496242</td>\n",
       "    </tr>\n",
       "    <tr>\n",
       "      <th>2</th>\n",
       "      <td>2017-09-19</td>\n",
       "      <td>1.000000</td>\n",
       "      <td>0</td>\n",
       "      <td>-0.877151</td>\n",
       "      <td>-0.877151</td>\n",
       "    </tr>\n",
       "    <tr>\n",
       "      <th>3</th>\n",
       "      <td>2017-09-28</td>\n",
       "      <td>1.000000</td>\n",
       "      <td>0</td>\n",
       "      <td>-0.969502</td>\n",
       "      <td>-0.969502</td>\n",
       "    </tr>\n",
       "    <tr>\n",
       "      <th>4</th>\n",
       "      <td>2017-10-05</td>\n",
       "      <td>1.000000</td>\n",
       "      <td>0</td>\n",
       "      <td>-0.780034</td>\n",
       "      <td>-0.780034</td>\n",
       "    </tr>\n",
       "    <tr>\n",
       "      <th>...</th>\n",
       "      <td>...</td>\n",
       "      <td>...</td>\n",
       "      <td>...</td>\n",
       "      <td>...</td>\n",
       "      <td>...</td>\n",
       "    </tr>\n",
       "    <tr>\n",
       "      <th>671</th>\n",
       "      <td>2024-10-05</td>\n",
       "      <td>76.512195</td>\n",
       "      <td>6542</td>\n",
       "      <td>-0.532749</td>\n",
       "      <td>-0.602705</td>\n",
       "    </tr>\n",
       "    <tr>\n",
       "      <th>672</th>\n",
       "      <td>2024-10-06</td>\n",
       "      <td>94.692308</td>\n",
       "      <td>3062</td>\n",
       "      <td>-0.376252</td>\n",
       "      <td>-0.533970</td>\n",
       "    </tr>\n",
       "    <tr>\n",
       "      <th>673</th>\n",
       "      <td>2024-10-07</td>\n",
       "      <td>133.127907</td>\n",
       "      <td>3149</td>\n",
       "      <td>-0.296218</td>\n",
       "      <td>-0.358680</td>\n",
       "    </tr>\n",
       "    <tr>\n",
       "      <th>674</th>\n",
       "      <td>2024-10-08</td>\n",
       "      <td>53.680851</td>\n",
       "      <td>3148</td>\n",
       "      <td>-0.445366</td>\n",
       "      <td>-0.550798</td>\n",
       "    </tr>\n",
       "    <tr>\n",
       "      <th>675</th>\n",
       "      <td>2024-10-09</td>\n",
       "      <td>22.812500</td>\n",
       "      <td>1023</td>\n",
       "      <td>-0.408724</td>\n",
       "      <td>-0.455158</td>\n",
       "    </tr>\n",
       "  </tbody>\n",
       "</table>\n",
       "<p>676 rows × 5 columns</p>\n",
       "</div>"
      ],
      "text/plain": [
       "        created       score  No_Comments  title_sentiment  \\\n",
       "0    2016-02-10    1.000000            1        -0.982634   \n",
       "1    2016-07-01    1.000000            1         0.528056   \n",
       "2    2017-09-19    1.000000            0        -0.877151   \n",
       "3    2017-09-28    1.000000            0        -0.969502   \n",
       "4    2017-10-05    1.000000            0        -0.780034   \n",
       "..          ...         ...          ...              ...   \n",
       "671  2024-10-05   76.512195         6542        -0.532749   \n",
       "672  2024-10-06   94.692308         3062        -0.376252   \n",
       "673  2024-10-07  133.127907         3149        -0.296218   \n",
       "674  2024-10-08   53.680851         3148        -0.445366   \n",
       "675  2024-10-09   22.812500         1023        -0.408724   \n",
       "\n",
       "     description_sentiment  \n",
       "0                 0.776574  \n",
       "1                 0.496242  \n",
       "2                -0.877151  \n",
       "3                -0.969502  \n",
       "4                -0.780034  \n",
       "..                     ...  \n",
       "671              -0.602705  \n",
       "672              -0.533970  \n",
       "673              -0.358680  \n",
       "674              -0.550798  \n",
       "675              -0.455158  \n",
       "\n",
       "[676 rows x 5 columns]"
      ]
     },
     "execution_count": 45,
     "metadata": {},
     "output_type": "execute_result"
    }
   ],
   "source": [
    "reddit_daily"
   ]
  },
  {
   "cell_type": "code",
   "execution_count": 47,
   "metadata": {},
   "outputs": [
    {
     "data": {
      "text/plain": [
       "(100, 5)"
      ]
     },
     "execution_count": 47,
     "metadata": {},
     "output_type": "execute_result"
    }
   ],
   "source": [
    "reddit_daily[reddit_daily['description_sentiment']>0].shape"
   ]
  },
  {
   "cell_type": "code",
   "execution_count": 48,
   "metadata": {},
   "outputs": [
    {
     "data": {
      "text/plain": [
       "(576, 5)"
      ]
     },
     "execution_count": 48,
     "metadata": {},
     "output_type": "execute_result"
    }
   ],
   "source": [
    "reddit_daily[reddit_daily['description_sentiment']<0].shape"
   ]
  },
  {
   "cell_type": "code",
   "execution_count": 49,
   "metadata": {},
   "outputs": [
    {
     "data": {
      "text/plain": [
       "(126, 5)"
      ]
     },
     "execution_count": 49,
     "metadata": {},
     "output_type": "execute_result"
    }
   ],
   "source": [
    "reddit_daily[reddit_daily['title_sentiment']>0].shape"
   ]
  },
  {
   "cell_type": "code",
   "execution_count": 50,
   "metadata": {},
   "outputs": [
    {
     "data": {
      "text/plain": [
       "(576, 5)"
      ]
     },
     "execution_count": 50,
     "metadata": {},
     "output_type": "execute_result"
    }
   ],
   "source": [
    "reddit_daily[reddit_daily['description_sentiment']<0].shape"
   ]
  },
  {
   "cell_type": "code",
   "execution_count": 51,
   "metadata": {},
   "outputs": [],
   "source": [
    "reddit_daily['created'] = pd.to_datetime(reddit_daily['created']).dt.date"
   ]
  },
  {
   "cell_type": "code",
   "execution_count": 52,
   "metadata": {},
   "outputs": [],
   "source": [
    "reddit_daily.set_index('created', inplace=True)"
   ]
  },
  {
   "cell_type": "code",
   "execution_count": 53,
   "metadata": {},
   "outputs": [
    {
     "data": {
      "text/html": [
       "<div>\n",
       "<style scoped>\n",
       "    .dataframe tbody tr th:only-of-type {\n",
       "        vertical-align: middle;\n",
       "    }\n",
       "\n",
       "    .dataframe tbody tr th {\n",
       "        vertical-align: top;\n",
       "    }\n",
       "\n",
       "    .dataframe thead th {\n",
       "        text-align: right;\n",
       "    }\n",
       "</style>\n",
       "<table border=\"1\" class=\"dataframe\">\n",
       "  <thead>\n",
       "    <tr style=\"text-align: right;\">\n",
       "      <th></th>\n",
       "      <th>score</th>\n",
       "      <th>No_Comments</th>\n",
       "      <th>title_sentiment</th>\n",
       "      <th>description_sentiment</th>\n",
       "    </tr>\n",
       "    <tr>\n",
       "      <th>created</th>\n",
       "      <th></th>\n",
       "      <th></th>\n",
       "      <th></th>\n",
       "      <th></th>\n",
       "    </tr>\n",
       "  </thead>\n",
       "  <tbody>\n",
       "    <tr>\n",
       "      <th>2016-02-10</th>\n",
       "      <td>1.0</td>\n",
       "      <td>1</td>\n",
       "      <td>-0.982634</td>\n",
       "      <td>0.776574</td>\n",
       "    </tr>\n",
       "    <tr>\n",
       "      <th>2016-07-01</th>\n",
       "      <td>1.0</td>\n",
       "      <td>1</td>\n",
       "      <td>0.528056</td>\n",
       "      <td>0.496242</td>\n",
       "    </tr>\n",
       "    <tr>\n",
       "      <th>2017-09-19</th>\n",
       "      <td>1.0</td>\n",
       "      <td>0</td>\n",
       "      <td>-0.877151</td>\n",
       "      <td>-0.877151</td>\n",
       "    </tr>\n",
       "    <tr>\n",
       "      <th>2017-09-28</th>\n",
       "      <td>1.0</td>\n",
       "      <td>0</td>\n",
       "      <td>-0.969502</td>\n",
       "      <td>-0.969502</td>\n",
       "    </tr>\n",
       "    <tr>\n",
       "      <th>2017-10-05</th>\n",
       "      <td>1.0</td>\n",
       "      <td>0</td>\n",
       "      <td>-0.780034</td>\n",
       "      <td>-0.780034</td>\n",
       "    </tr>\n",
       "  </tbody>\n",
       "</table>\n",
       "</div>"
      ],
      "text/plain": [
       "            score  No_Comments  title_sentiment  description_sentiment\n",
       "created                                                               \n",
       "2016-02-10    1.0            1        -0.982634               0.776574\n",
       "2016-07-01    1.0            1         0.528056               0.496242\n",
       "2017-09-19    1.0            0        -0.877151              -0.877151\n",
       "2017-09-28    1.0            0        -0.969502              -0.969502\n",
       "2017-10-05    1.0            0        -0.780034              -0.780034"
      ]
     },
     "execution_count": 53,
     "metadata": {},
     "output_type": "execute_result"
    }
   ],
   "source": [
    "reddit_daily.head()"
   ]
  },
  {
   "cell_type": "code",
   "execution_count": 54,
   "metadata": {},
   "outputs": [],
   "source": [
    "market_data=pd.read_csv('crypto_market_data.csv')"
   ]
  },
  {
   "cell_type": "code",
   "execution_count": 55,
   "metadata": {},
   "outputs": [
    {
     "data": {
      "text/html": [
       "<div>\n",
       "<style scoped>\n",
       "    .dataframe tbody tr th:only-of-type {\n",
       "        vertical-align: middle;\n",
       "    }\n",
       "\n",
       "    .dataframe tbody tr th {\n",
       "        vertical-align: top;\n",
       "    }\n",
       "\n",
       "    .dataframe thead th {\n",
       "        text-align: right;\n",
       "    }\n",
       "</style>\n",
       "<table border=\"1\" class=\"dataframe\">\n",
       "  <thead>\n",
       "    <tr style=\"text-align: right;\">\n",
       "      <th></th>\n",
       "      <th>timestamp</th>\n",
       "      <th>bitcoin_price</th>\n",
       "      <th>bitcoin_volume</th>\n",
       "      <th>bitcoin_market_cap</th>\n",
       "      <th>bitcoin_returns</th>\n",
       "      <th>bitcoin_volatility</th>\n",
       "    </tr>\n",
       "  </thead>\n",
       "  <tbody>\n",
       "    <tr>\n",
       "      <th>0</th>\n",
       "      <td>2023-10-11 00:00:00</td>\n",
       "      <td>27392.247703</td>\n",
       "      <td>1.015172e+10</td>\n",
       "      <td>5.352004e+11</td>\n",
       "      <td>0.002601</td>\n",
       "      <td>0.477486</td>\n",
       "    </tr>\n",
       "    <tr>\n",
       "      <th>1</th>\n",
       "      <td>2023-10-12 00:00:00</td>\n",
       "      <td>26842.190439</td>\n",
       "      <td>1.460844e+10</td>\n",
       "      <td>5.236564e+11</td>\n",
       "      <td>-0.020081</td>\n",
       "      <td>0.477486</td>\n",
       "    </tr>\n",
       "    <tr>\n",
       "      <th>2</th>\n",
       "      <td>2023-10-13 00:00:00</td>\n",
       "      <td>26729.137206</td>\n",
       "      <td>1.086764e+10</td>\n",
       "      <td>5.216077e+11</td>\n",
       "      <td>-0.004212</td>\n",
       "      <td>0.477486</td>\n",
       "    </tr>\n",
       "    <tr>\n",
       "      <th>3</th>\n",
       "      <td>2023-10-14 00:00:00</td>\n",
       "      <td>26841.136221</td>\n",
       "      <td>1.434441e+10</td>\n",
       "      <td>5.236556e+11</td>\n",
       "      <td>0.004190</td>\n",
       "      <td>0.477486</td>\n",
       "    </tr>\n",
       "    <tr>\n",
       "      <th>4</th>\n",
       "      <td>2023-10-15 00:00:00</td>\n",
       "      <td>26863.183569</td>\n",
       "      <td>5.543161e+09</td>\n",
       "      <td>5.239792e+11</td>\n",
       "      <td>0.000821</td>\n",
       "      <td>0.477486</td>\n",
       "    </tr>\n",
       "  </tbody>\n",
       "</table>\n",
       "</div>"
      ],
      "text/plain": [
       "             timestamp  bitcoin_price  bitcoin_volume  bitcoin_market_cap  \\\n",
       "0  2023-10-11 00:00:00   27392.247703    1.015172e+10        5.352004e+11   \n",
       "1  2023-10-12 00:00:00   26842.190439    1.460844e+10        5.236564e+11   \n",
       "2  2023-10-13 00:00:00   26729.137206    1.086764e+10        5.216077e+11   \n",
       "3  2023-10-14 00:00:00   26841.136221    1.434441e+10        5.236556e+11   \n",
       "4  2023-10-15 00:00:00   26863.183569    5.543161e+09        5.239792e+11   \n",
       "\n",
       "   bitcoin_returns  bitcoin_volatility  \n",
       "0         0.002601            0.477486  \n",
       "1        -0.020081            0.477486  \n",
       "2        -0.004212            0.477486  \n",
       "3         0.004190            0.477486  \n",
       "4         0.000821            0.477486  "
      ]
     },
     "execution_count": 55,
     "metadata": {},
     "output_type": "execute_result"
    }
   ],
   "source": [
    "market_data.head()"
   ]
  },
  {
   "cell_type": "code",
   "execution_count": 56,
   "metadata": {},
   "outputs": [],
   "source": [
    "market_data = market_data.loc[:, ~market_data.columns.str.contains('^Unnamed')]"
   ]
  },
  {
   "cell_type": "code",
   "execution_count": 57,
   "metadata": {},
   "outputs": [
    {
     "data": {
      "text/html": [
       "<div>\n",
       "<style scoped>\n",
       "    .dataframe tbody tr th:only-of-type {\n",
       "        vertical-align: middle;\n",
       "    }\n",
       "\n",
       "    .dataframe tbody tr th {\n",
       "        vertical-align: top;\n",
       "    }\n",
       "\n",
       "    .dataframe thead th {\n",
       "        text-align: right;\n",
       "    }\n",
       "</style>\n",
       "<table border=\"1\" class=\"dataframe\">\n",
       "  <thead>\n",
       "    <tr style=\"text-align: right;\">\n",
       "      <th></th>\n",
       "      <th>timestamp</th>\n",
       "      <th>bitcoin_price</th>\n",
       "      <th>bitcoin_volume</th>\n",
       "      <th>bitcoin_market_cap</th>\n",
       "      <th>bitcoin_returns</th>\n",
       "      <th>bitcoin_volatility</th>\n",
       "    </tr>\n",
       "  </thead>\n",
       "  <tbody>\n",
       "    <tr>\n",
       "      <th>0</th>\n",
       "      <td>2023-10-11 00:00:00</td>\n",
       "      <td>27392.247703</td>\n",
       "      <td>1.015172e+10</td>\n",
       "      <td>5.352004e+11</td>\n",
       "      <td>0.002601</td>\n",
       "      <td>0.477486</td>\n",
       "    </tr>\n",
       "    <tr>\n",
       "      <th>1</th>\n",
       "      <td>2023-10-12 00:00:00</td>\n",
       "      <td>26842.190439</td>\n",
       "      <td>1.460844e+10</td>\n",
       "      <td>5.236564e+11</td>\n",
       "      <td>-0.020081</td>\n",
       "      <td>0.477486</td>\n",
       "    </tr>\n",
       "    <tr>\n",
       "      <th>2</th>\n",
       "      <td>2023-10-13 00:00:00</td>\n",
       "      <td>26729.137206</td>\n",
       "      <td>1.086764e+10</td>\n",
       "      <td>5.216077e+11</td>\n",
       "      <td>-0.004212</td>\n",
       "      <td>0.477486</td>\n",
       "    </tr>\n",
       "    <tr>\n",
       "      <th>3</th>\n",
       "      <td>2023-10-14 00:00:00</td>\n",
       "      <td>26841.136221</td>\n",
       "      <td>1.434441e+10</td>\n",
       "      <td>5.236556e+11</td>\n",
       "      <td>0.004190</td>\n",
       "      <td>0.477486</td>\n",
       "    </tr>\n",
       "    <tr>\n",
       "      <th>4</th>\n",
       "      <td>2023-10-15 00:00:00</td>\n",
       "      <td>26863.183569</td>\n",
       "      <td>5.543161e+09</td>\n",
       "      <td>5.239792e+11</td>\n",
       "      <td>0.000821</td>\n",
       "      <td>0.477486</td>\n",
       "    </tr>\n",
       "  </tbody>\n",
       "</table>\n",
       "</div>"
      ],
      "text/plain": [
       "             timestamp  bitcoin_price  bitcoin_volume  bitcoin_market_cap  \\\n",
       "0  2023-10-11 00:00:00   27392.247703    1.015172e+10        5.352004e+11   \n",
       "1  2023-10-12 00:00:00   26842.190439    1.460844e+10        5.236564e+11   \n",
       "2  2023-10-13 00:00:00   26729.137206    1.086764e+10        5.216077e+11   \n",
       "3  2023-10-14 00:00:00   26841.136221    1.434441e+10        5.236556e+11   \n",
       "4  2023-10-15 00:00:00   26863.183569    5.543161e+09        5.239792e+11   \n",
       "\n",
       "   bitcoin_returns  bitcoin_volatility  \n",
       "0         0.002601            0.477486  \n",
       "1        -0.020081            0.477486  \n",
       "2        -0.004212            0.477486  \n",
       "3         0.004190            0.477486  \n",
       "4         0.000821            0.477486  "
      ]
     },
     "execution_count": 57,
     "metadata": {},
     "output_type": "execute_result"
    }
   ],
   "source": [
    "market_data.head()"
   ]
  },
  {
   "cell_type": "code",
   "execution_count": 58,
   "metadata": {},
   "outputs": [],
   "source": [
    "market_data['timestamp'] = pd.to_datetime(market_data['timestamp']).dt.date"
   ]
  },
  {
   "cell_type": "code",
   "execution_count": 59,
   "metadata": {},
   "outputs": [],
   "source": [
    "market_data.set_index('timestamp', inplace=True)"
   ]
  },
  {
   "cell_type": "code",
   "execution_count": 60,
   "metadata": {},
   "outputs": [
    {
     "data": {
      "text/html": [
       "<div>\n",
       "<style scoped>\n",
       "    .dataframe tbody tr th:only-of-type {\n",
       "        vertical-align: middle;\n",
       "    }\n",
       "\n",
       "    .dataframe tbody tr th {\n",
       "        vertical-align: top;\n",
       "    }\n",
       "\n",
       "    .dataframe thead th {\n",
       "        text-align: right;\n",
       "    }\n",
       "</style>\n",
       "<table border=\"1\" class=\"dataframe\">\n",
       "  <thead>\n",
       "    <tr style=\"text-align: right;\">\n",
       "      <th></th>\n",
       "      <th>bitcoin_price</th>\n",
       "      <th>bitcoin_volume</th>\n",
       "      <th>bitcoin_market_cap</th>\n",
       "      <th>bitcoin_returns</th>\n",
       "      <th>bitcoin_volatility</th>\n",
       "    </tr>\n",
       "    <tr>\n",
       "      <th>timestamp</th>\n",
       "      <th></th>\n",
       "      <th></th>\n",
       "      <th></th>\n",
       "      <th></th>\n",
       "      <th></th>\n",
       "    </tr>\n",
       "  </thead>\n",
       "  <tbody>\n",
       "    <tr>\n",
       "      <th>2023-10-11</th>\n",
       "      <td>27392.247703</td>\n",
       "      <td>1.015172e+10</td>\n",
       "      <td>5.352004e+11</td>\n",
       "      <td>0.002601</td>\n",
       "      <td>0.477486</td>\n",
       "    </tr>\n",
       "    <tr>\n",
       "      <th>2023-10-12</th>\n",
       "      <td>26842.190439</td>\n",
       "      <td>1.460844e+10</td>\n",
       "      <td>5.236564e+11</td>\n",
       "      <td>-0.020081</td>\n",
       "      <td>0.477486</td>\n",
       "    </tr>\n",
       "    <tr>\n",
       "      <th>2023-10-13</th>\n",
       "      <td>26729.137206</td>\n",
       "      <td>1.086764e+10</td>\n",
       "      <td>5.216077e+11</td>\n",
       "      <td>-0.004212</td>\n",
       "      <td>0.477486</td>\n",
       "    </tr>\n",
       "    <tr>\n",
       "      <th>2023-10-14</th>\n",
       "      <td>26841.136221</td>\n",
       "      <td>1.434441e+10</td>\n",
       "      <td>5.236556e+11</td>\n",
       "      <td>0.004190</td>\n",
       "      <td>0.477486</td>\n",
       "    </tr>\n",
       "    <tr>\n",
       "      <th>2023-10-15</th>\n",
       "      <td>26863.183569</td>\n",
       "      <td>5.543161e+09</td>\n",
       "      <td>5.239792e+11</td>\n",
       "      <td>0.000821</td>\n",
       "      <td>0.477486</td>\n",
       "    </tr>\n",
       "  </tbody>\n",
       "</table>\n",
       "</div>"
      ],
      "text/plain": [
       "            bitcoin_price  bitcoin_volume  bitcoin_market_cap  \\\n",
       "timestamp                                                       \n",
       "2023-10-11   27392.247703    1.015172e+10        5.352004e+11   \n",
       "2023-10-12   26842.190439    1.460844e+10        5.236564e+11   \n",
       "2023-10-13   26729.137206    1.086764e+10        5.216077e+11   \n",
       "2023-10-14   26841.136221    1.434441e+10        5.236556e+11   \n",
       "2023-10-15   26863.183569    5.543161e+09        5.239792e+11   \n",
       "\n",
       "            bitcoin_returns  bitcoin_volatility  \n",
       "timestamp                                        \n",
       "2023-10-11         0.002601            0.477486  \n",
       "2023-10-12        -0.020081            0.477486  \n",
       "2023-10-13        -0.004212            0.477486  \n",
       "2023-10-14         0.004190            0.477486  \n",
       "2023-10-15         0.000821            0.477486  "
      ]
     },
     "execution_count": 60,
     "metadata": {},
     "output_type": "execute_result"
    }
   ],
   "source": [
    "market_data.head()"
   ]
  },
  {
   "cell_type": "code",
   "execution_count": 78,
   "metadata": {},
   "outputs": [],
   "source": [
    "combined_data = pd.merge(market_data, reddit_daily, left_index=True, right_index=True, how='left')"
   ]
  },
  {
   "cell_type": "code",
   "execution_count": 79,
   "metadata": {},
   "outputs": [
    {
     "data": {
      "text/html": [
       "<div>\n",
       "<style scoped>\n",
       "    .dataframe tbody tr th:only-of-type {\n",
       "        vertical-align: middle;\n",
       "    }\n",
       "\n",
       "    .dataframe tbody tr th {\n",
       "        vertical-align: top;\n",
       "    }\n",
       "\n",
       "    .dataframe thead th {\n",
       "        text-align: right;\n",
       "    }\n",
       "</style>\n",
       "<table border=\"1\" class=\"dataframe\">\n",
       "  <thead>\n",
       "    <tr style=\"text-align: right;\">\n",
       "      <th></th>\n",
       "      <th>bitcoin_price</th>\n",
       "      <th>bitcoin_volume</th>\n",
       "      <th>bitcoin_market_cap</th>\n",
       "      <th>bitcoin_returns</th>\n",
       "      <th>bitcoin_volatility</th>\n",
       "      <th>score</th>\n",
       "      <th>No_Comments</th>\n",
       "      <th>title_sentiment</th>\n",
       "      <th>description_sentiment</th>\n",
       "    </tr>\n",
       "  </thead>\n",
       "  <tbody>\n",
       "    <tr>\n",
       "      <th>2023-10-11</th>\n",
       "      <td>27392.247703</td>\n",
       "      <td>1.015172e+10</td>\n",
       "      <td>5.352004e+11</td>\n",
       "      <td>0.002601</td>\n",
       "      <td>0.477486</td>\n",
       "      <td>9.0</td>\n",
       "      <td>4.0</td>\n",
       "      <td>-0.847598</td>\n",
       "      <td>-0.999320</td>\n",
       "    </tr>\n",
       "    <tr>\n",
       "      <th>2023-10-12</th>\n",
       "      <td>26842.190439</td>\n",
       "      <td>1.460844e+10</td>\n",
       "      <td>5.236564e+11</td>\n",
       "      <td>-0.020081</td>\n",
       "      <td>0.477486</td>\n",
       "      <td>13.5</td>\n",
       "      <td>8.0</td>\n",
       "      <td>-0.989922</td>\n",
       "      <td>-0.989922</td>\n",
       "    </tr>\n",
       "    <tr>\n",
       "      <th>2023-10-13</th>\n",
       "      <td>26729.137206</td>\n",
       "      <td>1.086764e+10</td>\n",
       "      <td>5.216077e+11</td>\n",
       "      <td>-0.004212</td>\n",
       "      <td>0.477486</td>\n",
       "      <td>21.0</td>\n",
       "      <td>5.0</td>\n",
       "      <td>0.027463</td>\n",
       "      <td>0.007927</td>\n",
       "    </tr>\n",
       "    <tr>\n",
       "      <th>2023-10-14</th>\n",
       "      <td>26841.136221</td>\n",
       "      <td>1.434441e+10</td>\n",
       "      <td>5.236556e+11</td>\n",
       "      <td>0.004190</td>\n",
       "      <td>0.477486</td>\n",
       "      <td>NaN</td>\n",
       "      <td>NaN</td>\n",
       "      <td>NaN</td>\n",
       "      <td>NaN</td>\n",
       "    </tr>\n",
       "    <tr>\n",
       "      <th>2023-10-15</th>\n",
       "      <td>26863.183569</td>\n",
       "      <td>5.543161e+09</td>\n",
       "      <td>5.239792e+11</td>\n",
       "      <td>0.000821</td>\n",
       "      <td>0.477486</td>\n",
       "      <td>19.0</td>\n",
       "      <td>6.0</td>\n",
       "      <td>-0.898067</td>\n",
       "      <td>-0.898067</td>\n",
       "    </tr>\n",
       "  </tbody>\n",
       "</table>\n",
       "</div>"
      ],
      "text/plain": [
       "            bitcoin_price  bitcoin_volume  bitcoin_market_cap  \\\n",
       "2023-10-11   27392.247703    1.015172e+10        5.352004e+11   \n",
       "2023-10-12   26842.190439    1.460844e+10        5.236564e+11   \n",
       "2023-10-13   26729.137206    1.086764e+10        5.216077e+11   \n",
       "2023-10-14   26841.136221    1.434441e+10        5.236556e+11   \n",
       "2023-10-15   26863.183569    5.543161e+09        5.239792e+11   \n",
       "\n",
       "            bitcoin_returns  bitcoin_volatility  score  No_Comments  \\\n",
       "2023-10-11         0.002601            0.477486    9.0          4.0   \n",
       "2023-10-12        -0.020081            0.477486   13.5          8.0   \n",
       "2023-10-13        -0.004212            0.477486   21.0          5.0   \n",
       "2023-10-14         0.004190            0.477486    NaN          NaN   \n",
       "2023-10-15         0.000821            0.477486   19.0          6.0   \n",
       "\n",
       "            title_sentiment  description_sentiment  \n",
       "2023-10-11        -0.847598              -0.999320  \n",
       "2023-10-12        -0.989922              -0.989922  \n",
       "2023-10-13         0.027463               0.007927  \n",
       "2023-10-14              NaN                    NaN  \n",
       "2023-10-15        -0.898067              -0.898067  "
      ]
     },
     "execution_count": 79,
     "metadata": {},
     "output_type": "execute_result"
    }
   ],
   "source": [
    "combined_data.head()"
   ]
  },
  {
   "cell_type": "code",
   "execution_count": 80,
   "metadata": {},
   "outputs": [
    {
     "data": {
      "text/plain": [
       "(366, 9)"
      ]
     },
     "execution_count": 80,
     "metadata": {},
     "output_type": "execute_result"
    }
   ],
   "source": [
    "combined_data.shape"
   ]
  },
  {
   "cell_type": "code",
   "execution_count": 81,
   "metadata": {},
   "outputs": [
    {
     "data": {
      "text/plain": [
       "(43, 9)"
      ]
     },
     "execution_count": 81,
     "metadata": {},
     "output_type": "execute_result"
    }
   ],
   "source": [
    "combined_data[combined_data['description_sentiment']>0].shape"
   ]
  },
  {
   "cell_type": "code",
   "execution_count": 82,
   "metadata": {},
   "outputs": [
    {
     "data": {
      "text/plain": [
       "(256, 9)"
      ]
     },
     "execution_count": 82,
     "metadata": {},
     "output_type": "execute_result"
    }
   ],
   "source": [
    "combined_data[combined_data['description_sentiment']<0].shape"
   ]
  },
  {
   "cell_type": "code",
   "execution_count": 83,
   "metadata": {},
   "outputs": [
    {
     "data": {
      "text/plain": [
       "(48, 9)"
      ]
     },
     "execution_count": 83,
     "metadata": {},
     "output_type": "execute_result"
    }
   ],
   "source": [
    "combined_data[combined_data['title_sentiment']>0].shape"
   ]
  },
  {
   "cell_type": "code",
   "execution_count": 84,
   "metadata": {},
   "outputs": [
    {
     "data": {
      "text/plain": [
       "(251, 9)"
      ]
     },
     "execution_count": 84,
     "metadata": {},
     "output_type": "execute_result"
    }
   ],
   "source": [
    "combined_data[combined_data['title_sentiment']<0].shape"
   ]
  },
  {
   "cell_type": "code",
   "execution_count": 85,
   "metadata": {},
   "outputs": [
    {
     "data": {
      "text/plain": [
       "bitcoin_price             0\n",
       "bitcoin_volume            0\n",
       "bitcoin_market_cap        0\n",
       "bitcoin_returns           0\n",
       "bitcoin_volatility        0\n",
       "score                    67\n",
       "No_Comments              67\n",
       "title_sentiment          67\n",
       "description_sentiment    67\n",
       "dtype: int64"
      ]
     },
     "execution_count": 85,
     "metadata": {},
     "output_type": "execute_result"
    }
   ],
   "source": [
    "combined_data.isnull().sum()[:20]"
   ]
  },
  {
   "cell_type": "code",
   "execution_count": 86,
   "metadata": {},
   "outputs": [
    {
     "data": {
      "text/plain": [
       "(366, 9)"
      ]
     },
     "execution_count": 86,
     "metadata": {},
     "output_type": "execute_result"
    }
   ],
   "source": [
    "combined_data.shape"
   ]
  },
  {
   "cell_type": "code",
   "execution_count": 87,
   "metadata": {},
   "outputs": [],
   "source": [
    "combined_data['score']=combined_data['score'].fillna(combined_data['score'].mean())"
   ]
  },
  {
   "cell_type": "code",
   "execution_count": 88,
   "metadata": {},
   "outputs": [],
   "source": [
    "combined_data['No_Comments']=combined_data['No_Comments'].fillna(combined_data['No_Comments'].median())"
   ]
  },
  {
   "cell_type": "code",
   "execution_count": 89,
   "metadata": {},
   "outputs": [],
   "source": [
    "combined_data['title_sentiment']=combined_data['title_sentiment'].fillna(combined_data['title_sentiment'].max())"
   ]
  },
  {
   "cell_type": "code",
   "execution_count": 90,
   "metadata": {},
   "outputs": [],
   "source": [
    "combined_data['description_sentiment']=combined_data['description_sentiment'].fillna(combined_data['description_sentiment'].max())"
   ]
  },
  {
   "cell_type": "code",
   "execution_count": 91,
   "metadata": {},
   "outputs": [
    {
     "data": {
      "text/plain": [
       "bitcoin_price            0\n",
       "bitcoin_volume           0\n",
       "bitcoin_market_cap       0\n",
       "bitcoin_returns          0\n",
       "bitcoin_volatility       0\n",
       "score                    0\n",
       "No_Comments              0\n",
       "title_sentiment          0\n",
       "description_sentiment    0\n",
       "dtype: int64"
      ]
     },
     "execution_count": 91,
     "metadata": {},
     "output_type": "execute_result"
    }
   ],
   "source": [
    "combined_data.isnull().sum()"
   ]
  },
  {
   "cell_type": "code",
   "execution_count": 92,
   "metadata": {},
   "outputs": [
    {
     "data": {
      "text/plain": [
       "(110, 9)"
      ]
     },
     "execution_count": 92,
     "metadata": {},
     "output_type": "execute_result"
    }
   ],
   "source": [
    "combined_data[combined_data['description_sentiment']>0].shape"
   ]
  },
  {
   "cell_type": "code",
   "execution_count": 93,
   "metadata": {},
   "outputs": [],
   "source": [
    "for col in ['score', 'No_Comments', 'title_sentiment', 'description_sentiment']:\n",
    "    for i in range(1,8):\n",
    "        combined_data[f'{col}_lag{i}'] = combined_data[col].shift(i)"
   ]
  },
  {
   "cell_type": "code",
   "execution_count": 94,
   "metadata": {},
   "outputs": [
    {
     "data": {
      "text/html": [
       "<div>\n",
       "<style scoped>\n",
       "    .dataframe tbody tr th:only-of-type {\n",
       "        vertical-align: middle;\n",
       "    }\n",
       "\n",
       "    .dataframe tbody tr th {\n",
       "        vertical-align: top;\n",
       "    }\n",
       "\n",
       "    .dataframe thead th {\n",
       "        text-align: right;\n",
       "    }\n",
       "</style>\n",
       "<table border=\"1\" class=\"dataframe\">\n",
       "  <thead>\n",
       "    <tr style=\"text-align: right;\">\n",
       "      <th></th>\n",
       "      <th>bitcoin_price</th>\n",
       "      <th>bitcoin_volume</th>\n",
       "      <th>bitcoin_market_cap</th>\n",
       "      <th>bitcoin_returns</th>\n",
       "      <th>bitcoin_volatility</th>\n",
       "      <th>score</th>\n",
       "      <th>No_Comments</th>\n",
       "      <th>title_sentiment</th>\n",
       "      <th>description_sentiment</th>\n",
       "      <th>score_lag1</th>\n",
       "      <th>...</th>\n",
       "      <th>title_sentiment_lag5</th>\n",
       "      <th>title_sentiment_lag6</th>\n",
       "      <th>title_sentiment_lag7</th>\n",
       "      <th>description_sentiment_lag1</th>\n",
       "      <th>description_sentiment_lag2</th>\n",
       "      <th>description_sentiment_lag3</th>\n",
       "      <th>description_sentiment_lag4</th>\n",
       "      <th>description_sentiment_lag5</th>\n",
       "      <th>description_sentiment_lag6</th>\n",
       "      <th>description_sentiment_lag7</th>\n",
       "    </tr>\n",
       "  </thead>\n",
       "  <tbody>\n",
       "    <tr>\n",
       "      <th>2023-10-11</th>\n",
       "      <td>27392.247703</td>\n",
       "      <td>1.015172e+10</td>\n",
       "      <td>5.352004e+11</td>\n",
       "      <td>0.002601</td>\n",
       "      <td>0.477486</td>\n",
       "      <td>9.000000</td>\n",
       "      <td>4.0</td>\n",
       "      <td>-0.847598</td>\n",
       "      <td>-0.999320</td>\n",
       "      <td>NaN</td>\n",
       "      <td>...</td>\n",
       "      <td>NaN</td>\n",
       "      <td>NaN</td>\n",
       "      <td>NaN</td>\n",
       "      <td>NaN</td>\n",
       "      <td>NaN</td>\n",
       "      <td>NaN</td>\n",
       "      <td>NaN</td>\n",
       "      <td>NaN</td>\n",
       "      <td>NaN</td>\n",
       "      <td>NaN</td>\n",
       "    </tr>\n",
       "    <tr>\n",
       "      <th>2023-10-12</th>\n",
       "      <td>26842.190439</td>\n",
       "      <td>1.460844e+10</td>\n",
       "      <td>5.236564e+11</td>\n",
       "      <td>-0.020081</td>\n",
       "      <td>0.477486</td>\n",
       "      <td>13.500000</td>\n",
       "      <td>8.0</td>\n",
       "      <td>-0.989922</td>\n",
       "      <td>-0.989922</td>\n",
       "      <td>9.000000</td>\n",
       "      <td>...</td>\n",
       "      <td>NaN</td>\n",
       "      <td>NaN</td>\n",
       "      <td>NaN</td>\n",
       "      <td>-0.999320</td>\n",
       "      <td>NaN</td>\n",
       "      <td>NaN</td>\n",
       "      <td>NaN</td>\n",
       "      <td>NaN</td>\n",
       "      <td>NaN</td>\n",
       "      <td>NaN</td>\n",
       "    </tr>\n",
       "    <tr>\n",
       "      <th>2023-10-13</th>\n",
       "      <td>26729.137206</td>\n",
       "      <td>1.086764e+10</td>\n",
       "      <td>5.216077e+11</td>\n",
       "      <td>-0.004212</td>\n",
       "      <td>0.477486</td>\n",
       "      <td>21.000000</td>\n",
       "      <td>5.0</td>\n",
       "      <td>0.027463</td>\n",
       "      <td>0.007927</td>\n",
       "      <td>13.500000</td>\n",
       "      <td>...</td>\n",
       "      <td>NaN</td>\n",
       "      <td>NaN</td>\n",
       "      <td>NaN</td>\n",
       "      <td>-0.989922</td>\n",
       "      <td>-0.999320</td>\n",
       "      <td>NaN</td>\n",
       "      <td>NaN</td>\n",
       "      <td>NaN</td>\n",
       "      <td>NaN</td>\n",
       "      <td>NaN</td>\n",
       "    </tr>\n",
       "    <tr>\n",
       "      <th>2023-10-14</th>\n",
       "      <td>26841.136221</td>\n",
       "      <td>1.434441e+10</td>\n",
       "      <td>5.236556e+11</td>\n",
       "      <td>0.004190</td>\n",
       "      <td>0.477486</td>\n",
       "      <td>13.169026</td>\n",
       "      <td>9.0</td>\n",
       "      <td>0.997904</td>\n",
       "      <td>0.997183</td>\n",
       "      <td>21.000000</td>\n",
       "      <td>...</td>\n",
       "      <td>NaN</td>\n",
       "      <td>NaN</td>\n",
       "      <td>NaN</td>\n",
       "      <td>0.007927</td>\n",
       "      <td>-0.989922</td>\n",
       "      <td>-0.999320</td>\n",
       "      <td>NaN</td>\n",
       "      <td>NaN</td>\n",
       "      <td>NaN</td>\n",
       "      <td>NaN</td>\n",
       "    </tr>\n",
       "    <tr>\n",
       "      <th>2023-10-15</th>\n",
       "      <td>26863.183569</td>\n",
       "      <td>5.543161e+09</td>\n",
       "      <td>5.239792e+11</td>\n",
       "      <td>0.000821</td>\n",
       "      <td>0.477486</td>\n",
       "      <td>19.000000</td>\n",
       "      <td>6.0</td>\n",
       "      <td>-0.898067</td>\n",
       "      <td>-0.898067</td>\n",
       "      <td>13.169026</td>\n",
       "      <td>...</td>\n",
       "      <td>NaN</td>\n",
       "      <td>NaN</td>\n",
       "      <td>NaN</td>\n",
       "      <td>0.997183</td>\n",
       "      <td>0.007927</td>\n",
       "      <td>-0.989922</td>\n",
       "      <td>-0.99932</td>\n",
       "      <td>NaN</td>\n",
       "      <td>NaN</td>\n",
       "      <td>NaN</td>\n",
       "    </tr>\n",
       "  </tbody>\n",
       "</table>\n",
       "<p>5 rows × 37 columns</p>\n",
       "</div>"
      ],
      "text/plain": [
       "            bitcoin_price  bitcoin_volume  bitcoin_market_cap  \\\n",
       "2023-10-11   27392.247703    1.015172e+10        5.352004e+11   \n",
       "2023-10-12   26842.190439    1.460844e+10        5.236564e+11   \n",
       "2023-10-13   26729.137206    1.086764e+10        5.216077e+11   \n",
       "2023-10-14   26841.136221    1.434441e+10        5.236556e+11   \n",
       "2023-10-15   26863.183569    5.543161e+09        5.239792e+11   \n",
       "\n",
       "            bitcoin_returns  bitcoin_volatility      score  No_Comments  \\\n",
       "2023-10-11         0.002601            0.477486   9.000000          4.0   \n",
       "2023-10-12        -0.020081            0.477486  13.500000          8.0   \n",
       "2023-10-13        -0.004212            0.477486  21.000000          5.0   \n",
       "2023-10-14         0.004190            0.477486  13.169026          9.0   \n",
       "2023-10-15         0.000821            0.477486  19.000000          6.0   \n",
       "\n",
       "            title_sentiment  description_sentiment  score_lag1  ...  \\\n",
       "2023-10-11        -0.847598              -0.999320         NaN  ...   \n",
       "2023-10-12        -0.989922              -0.989922    9.000000  ...   \n",
       "2023-10-13         0.027463               0.007927   13.500000  ...   \n",
       "2023-10-14         0.997904               0.997183   21.000000  ...   \n",
       "2023-10-15        -0.898067              -0.898067   13.169026  ...   \n",
       "\n",
       "            title_sentiment_lag5  title_sentiment_lag6  title_sentiment_lag7  \\\n",
       "2023-10-11                   NaN                   NaN                   NaN   \n",
       "2023-10-12                   NaN                   NaN                   NaN   \n",
       "2023-10-13                   NaN                   NaN                   NaN   \n",
       "2023-10-14                   NaN                   NaN                   NaN   \n",
       "2023-10-15                   NaN                   NaN                   NaN   \n",
       "\n",
       "            description_sentiment_lag1  description_sentiment_lag2  \\\n",
       "2023-10-11                         NaN                         NaN   \n",
       "2023-10-12                   -0.999320                         NaN   \n",
       "2023-10-13                   -0.989922                   -0.999320   \n",
       "2023-10-14                    0.007927                   -0.989922   \n",
       "2023-10-15                    0.997183                    0.007927   \n",
       "\n",
       "            description_sentiment_lag3  description_sentiment_lag4  \\\n",
       "2023-10-11                         NaN                         NaN   \n",
       "2023-10-12                         NaN                         NaN   \n",
       "2023-10-13                         NaN                         NaN   \n",
       "2023-10-14                   -0.999320                         NaN   \n",
       "2023-10-15                   -0.989922                    -0.99932   \n",
       "\n",
       "            description_sentiment_lag5  description_sentiment_lag6  \\\n",
       "2023-10-11                         NaN                         NaN   \n",
       "2023-10-12                         NaN                         NaN   \n",
       "2023-10-13                         NaN                         NaN   \n",
       "2023-10-14                         NaN                         NaN   \n",
       "2023-10-15                         NaN                         NaN   \n",
       "\n",
       "            description_sentiment_lag7  \n",
       "2023-10-11                         NaN  \n",
       "2023-10-12                         NaN  \n",
       "2023-10-13                         NaN  \n",
       "2023-10-14                         NaN  \n",
       "2023-10-15                         NaN  \n",
       "\n",
       "[5 rows x 37 columns]"
      ]
     },
     "execution_count": 94,
     "metadata": {},
     "output_type": "execute_result"
    }
   ],
   "source": [
    "combined_data.head()"
   ]
  },
  {
   "cell_type": "code",
   "execution_count": 95,
   "metadata": {},
   "outputs": [
    {
     "data": {
      "text/plain": [
       "bitcoin_price                 0\n",
       "bitcoin_volume                0\n",
       "bitcoin_market_cap            0\n",
       "bitcoin_returns               0\n",
       "bitcoin_volatility            0\n",
       "score                         0\n",
       "No_Comments                   0\n",
       "title_sentiment               0\n",
       "description_sentiment         0\n",
       "score_lag1                    1\n",
       "score_lag2                    2\n",
       "score_lag3                    3\n",
       "score_lag4                    4\n",
       "score_lag5                    5\n",
       "score_lag6                    6\n",
       "score_lag7                    7\n",
       "No_Comments_lag1              1\n",
       "No_Comments_lag2              2\n",
       "No_Comments_lag3              3\n",
       "No_Comments_lag4              4\n",
       "No_Comments_lag5              5\n",
       "No_Comments_lag6              6\n",
       "No_Comments_lag7              7\n",
       "title_sentiment_lag1          1\n",
       "title_sentiment_lag2          2\n",
       "title_sentiment_lag3          3\n",
       "title_sentiment_lag4          4\n",
       "title_sentiment_lag5          5\n",
       "title_sentiment_lag6          6\n",
       "title_sentiment_lag7          7\n",
       "description_sentiment_lag1    1\n",
       "description_sentiment_lag2    2\n",
       "description_sentiment_lag3    3\n",
       "description_sentiment_lag4    4\n",
       "description_sentiment_lag5    5\n",
       "description_sentiment_lag6    6\n",
       "description_sentiment_lag7    7\n",
       "dtype: int64"
      ]
     },
     "execution_count": 95,
     "metadata": {},
     "output_type": "execute_result"
    }
   ],
   "source": [
    "combined_data.isnull().sum()"
   ]
  },
  {
   "cell_type": "code",
   "execution_count": 96,
   "metadata": {},
   "outputs": [],
   "source": [
    "for col in ['score_lag','title_sentiment_lag', 'description_sentiment_lag']:\n",
    "    for i in range(1,8): \n",
    "        combined_data[f\"{col}{i}\"]=combined_data[f\"{col}{i}\"].fillna(combined_data[f\"{col}{i}\"].mean())"
   ]
  },
  {
   "cell_type": "code",
   "execution_count": 97,
   "metadata": {},
   "outputs": [],
   "source": [
    "for i in range(1,8):\n",
    "    combined_data[f'No_Comments_lag{i}']=combined_data[f'No_Comments_lag{i}'].fillna(combined_data[f'No_Comments_lag{i}'].median())"
   ]
  },
  {
   "cell_type": "code",
   "execution_count": 98,
   "metadata": {},
   "outputs": [
    {
     "data": {
      "text/plain": [
       "bitcoin_price                 0\n",
       "bitcoin_volume                0\n",
       "bitcoin_market_cap            0\n",
       "bitcoin_returns               0\n",
       "bitcoin_volatility            0\n",
       "score                         0\n",
       "No_Comments                   0\n",
       "title_sentiment               0\n",
       "description_sentiment         0\n",
       "score_lag1                    0\n",
       "score_lag2                    0\n",
       "score_lag3                    0\n",
       "score_lag4                    0\n",
       "score_lag5                    0\n",
       "score_lag6                    0\n",
       "score_lag7                    0\n",
       "No_Comments_lag1              0\n",
       "No_Comments_lag2              0\n",
       "No_Comments_lag3              0\n",
       "No_Comments_lag4              0\n",
       "No_Comments_lag5              0\n",
       "No_Comments_lag6              0\n",
       "No_Comments_lag7              0\n",
       "title_sentiment_lag1          0\n",
       "title_sentiment_lag2          0\n",
       "title_sentiment_lag3          0\n",
       "title_sentiment_lag4          0\n",
       "title_sentiment_lag5          0\n",
       "title_sentiment_lag6          0\n",
       "title_sentiment_lag7          0\n",
       "description_sentiment_lag1    0\n",
       "description_sentiment_lag2    0\n",
       "description_sentiment_lag3    0\n",
       "description_sentiment_lag4    0\n",
       "description_sentiment_lag5    0\n",
       "description_sentiment_lag6    0\n",
       "description_sentiment_lag7    0\n",
       "dtype: int64"
      ]
     },
     "execution_count": 98,
     "metadata": {},
     "output_type": "execute_result"
    }
   ],
   "source": [
    "combined_data.isnull().sum()"
   ]
  },
  {
   "cell_type": "code",
   "execution_count": 99,
   "metadata": {},
   "outputs": [],
   "source": [
    "combined_data.to_csv('combined_data.csv')"
   ]
  }
 ],
 "metadata": {
  "kernelspec": {
   "display_name": "venv",
   "language": "python",
   "name": "python3"
  },
  "language_info": {
   "codemirror_mode": {
    "name": "ipython",
    "version": 3
   },
   "file_extension": ".py",
   "mimetype": "text/x-python",
   "name": "python",
   "nbconvert_exporter": "python",
   "pygments_lexer": "ipython3",
   "version": "3.12.4"
  }
 },
 "nbformat": 4,
 "nbformat_minor": 2
}
